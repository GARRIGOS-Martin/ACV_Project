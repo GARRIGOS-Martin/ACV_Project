{
 "cells": [
  {
   "cell_type": "markdown",
   "metadata": {},
   "source": [
    "## When using a local Jupyter Notebook"
   ]
  },
  {
   "cell_type": "code",
   "execution_count": 1,
   "metadata": {},
   "outputs": [
    {
     "name": "stdout",
     "output_type": "stream",
     "text": [
      "[Errno 2] No such file or directory: 'C:/Users/nashw/Desktop/ACV/'\n",
      "/home/d5learner-03/Documents/Advanced_Computer_Vision/ACV-20210922T072422Z-001/ACV\n"
     ]
    }
   ],
   "source": [
    "%cd C:/Users/nashw/Desktop/ACV/"
   ]
  },
  {
   "cell_type": "code",
   "execution_count": null,
   "metadata": {},
   "outputs": [],
   "source": [
    "import cv2\n",
    "import numpy as np\n",
    "import matplotlib.pyplot as plt\n",
    "import mediapipe as mp"
   ]
  },
  {
   "cell_type": "markdown",
   "metadata": {},
   "source": [
    "### Show an image (in a window)"
   ]
  },
  {
   "cell_type": "code",
   "execution_count": 3,
   "metadata": {},
   "outputs": [],
   "source": [
    "def show_image(image):\n",
    "    cv2.imshow('', image)\n",
    "    cv2.waitKey(0)\n",
    "    cv2.destroyAllWindows()"
   ]
  },
  {
   "cell_type": "code",
   "execution_count": null,
   "metadata": {},
   "outputs": [],
   "source": [
    "star_mask = cv2.imread('./data/star_mask.jpg')\n",
    "\n",
    "show_image(star_mask)"
   ]
  },
  {
   "cell_type": "markdown",
   "metadata": {},
   "source": [
    "### Watch a webcam and apply a filter"
   ]
  },
  {
   "cell_type": "code",
   "execution_count": null,
   "metadata": {},
   "outputs": [],
   "source": [
    "def run_filter_on_camera(image_filter):\n",
    "    cap = cv2.VideoCapture(0)\n",
    "\n",
    "    while(True):\n",
    "        # Capture frame-by-frame\n",
    "        ret, frame = cap.read()\n",
    "        \n",
    "        # Our operations on the frame come here\n",
    "        result_image = image_filter(frame)\n",
    "\n",
    "        # Display the resulting frame\n",
    "        cv2.imshow('frame', result_image)\n",
    "\n",
    "        # We break out of the loop if the 'q' key is pressed\n",
    "        if cv2.waitKey(1) & 0xFF == ord('q'):\n",
    "            break\n",
    "\n",
    "    # When everything done, release the capture\n",
    "    cap.release()\n",
    "    cv2.destroyAllWindows()"
   ]
  },
  {
   "cell_type": "code",
   "execution_count": 3,
   "metadata": {},
   "outputs": [],
   "source": [
    "def black_and_white(image):\n",
    "    return_image = np.zeros((image.shape[0], image.shape[1], 3), np.uint8)\n",
    "    \n",
    "    gray = cv2.cvtColor(image, cv2.COLOR_BGR2GRAY)\n",
    "    \n",
    "    return_image[:, :, 0] = gray\n",
    "    return_image[:, :, 1] = gray\n",
    "    return_image[:, :, 2] = gray\n",
    "    \n",
    "    return return_image"
   ]
  },
  {
   "cell_type": "code",
   "execution_count": 4,
   "metadata": {},
   "outputs": [
    {
     "ename": "AttributeError",
     "evalue": "'NoneType' object has no attribute 'shape'",
     "output_type": "error",
     "traceback": [
      "\u001b[0;31m---------------------------------------------------------------------------\u001b[0m",
      "\u001b[0;31mAttributeError\u001b[0m                            Traceback (most recent call last)",
      "\u001b[0;32m<ipython-input-4-fb2ad766a493>\u001b[0m in \u001b[0;36m<module>\u001b[0;34m\u001b[0m\n\u001b[0;32m----> 1\u001b[0;31m \u001b[0mrun_filter_on_camera\u001b[0m\u001b[0;34m(\u001b[0m\u001b[0mblack_and_white\u001b[0m\u001b[0;34m)\u001b[0m\u001b[0;34m\u001b[0m\u001b[0;34m\u001b[0m\u001b[0m\n\u001b[0m",
      "\u001b[0;32m<ipython-input-2-e735352bb6d5>\u001b[0m in \u001b[0;36mrun_filter_on_camera\u001b[0;34m(image_filter)\u001b[0m\n\u001b[1;32m      7\u001b[0m \u001b[0;34m\u001b[0m\u001b[0m\n\u001b[1;32m      8\u001b[0m         \u001b[0;31m# Our operations on the frame come here\u001b[0m\u001b[0;34m\u001b[0m\u001b[0;34m\u001b[0m\u001b[0;34m\u001b[0m\u001b[0m\n\u001b[0;32m----> 9\u001b[0;31m         \u001b[0mresult_image\u001b[0m \u001b[0;34m=\u001b[0m \u001b[0mimage_filter\u001b[0m\u001b[0;34m(\u001b[0m\u001b[0mframe\u001b[0m\u001b[0;34m)\u001b[0m\u001b[0;34m\u001b[0m\u001b[0;34m\u001b[0m\u001b[0m\n\u001b[0m\u001b[1;32m     10\u001b[0m \u001b[0;34m\u001b[0m\u001b[0m\n\u001b[1;32m     11\u001b[0m         \u001b[0;31m# Display the resulting frame\u001b[0m\u001b[0;34m\u001b[0m\u001b[0;34m\u001b[0m\u001b[0;34m\u001b[0m\u001b[0m\n",
      "\u001b[0;32m<ipython-input-3-7f41bf260da3>\u001b[0m in \u001b[0;36mblack_and_white\u001b[0;34m(image)\u001b[0m\n\u001b[1;32m      1\u001b[0m \u001b[0;32mdef\u001b[0m \u001b[0mblack_and_white\u001b[0m\u001b[0;34m(\u001b[0m\u001b[0mimage\u001b[0m\u001b[0;34m)\u001b[0m\u001b[0;34m:\u001b[0m\u001b[0;34m\u001b[0m\u001b[0;34m\u001b[0m\u001b[0m\n\u001b[0;32m----> 2\u001b[0;31m     \u001b[0mreturn_image\u001b[0m \u001b[0;34m=\u001b[0m \u001b[0mnp\u001b[0m\u001b[0;34m.\u001b[0m\u001b[0mzeros\u001b[0m\u001b[0;34m(\u001b[0m\u001b[0;34m(\u001b[0m\u001b[0mimage\u001b[0m\u001b[0;34m.\u001b[0m\u001b[0mshape\u001b[0m\u001b[0;34m[\u001b[0m\u001b[0;36m0\u001b[0m\u001b[0;34m]\u001b[0m\u001b[0;34m,\u001b[0m \u001b[0mimage\u001b[0m\u001b[0;34m.\u001b[0m\u001b[0mshape\u001b[0m\u001b[0;34m[\u001b[0m\u001b[0;36m1\u001b[0m\u001b[0;34m]\u001b[0m\u001b[0;34m,\u001b[0m \u001b[0;36m3\u001b[0m\u001b[0;34m)\u001b[0m\u001b[0;34m,\u001b[0m \u001b[0mnp\u001b[0m\u001b[0;34m.\u001b[0m\u001b[0muint8\u001b[0m\u001b[0;34m)\u001b[0m\u001b[0;34m\u001b[0m\u001b[0;34m\u001b[0m\u001b[0m\n\u001b[0m\u001b[1;32m      3\u001b[0m \u001b[0;34m\u001b[0m\u001b[0m\n\u001b[1;32m      4\u001b[0m     \u001b[0mgray\u001b[0m \u001b[0;34m=\u001b[0m \u001b[0mcv2\u001b[0m\u001b[0;34m.\u001b[0m\u001b[0mcvtColor\u001b[0m\u001b[0;34m(\u001b[0m\u001b[0mimage\u001b[0m\u001b[0;34m,\u001b[0m \u001b[0mcv2\u001b[0m\u001b[0;34m.\u001b[0m\u001b[0mCOLOR_BGR2GRAY\u001b[0m\u001b[0;34m)\u001b[0m\u001b[0;34m\u001b[0m\u001b[0;34m\u001b[0m\u001b[0m\n\u001b[1;32m      5\u001b[0m \u001b[0;34m\u001b[0m\u001b[0m\n",
      "\u001b[0;31mAttributeError\u001b[0m: 'NoneType' object has no attribute 'shape'"
     ]
    }
   ],
   "source": [
    "run_filter_on_camera(black_and_white)"
   ]
  },
  {
   "cell_type": "code",
   "execution_count": 16,
   "metadata": {},
   "outputs": [],
   "source": [
    "\n",
    "def left_half(img):\n",
    "  h, w = img.shape[:2]\n",
    "  newim = np.zeros((h, w//2, 3), dtype=np.uint8)\n",
    "  newim[:,:] = img[:,:w//2]\n",
    "  return newim\n",
    "\n",
    "def h_flip(img):\n",
    "  return cv2.flip(img,1)\n",
    "\n",
    "def sidebyside(imageleft, imageright):\n",
    "  h1,w1 = imageleft.shape[:2]\n",
    "  h2,w2 = imageright.shape[:2]\n",
    "  newimheight = np.max((h1, h2))\n",
    "  newimwidth = w1 + w2\n",
    "  newim = np.zeros((newimheight, newimwidth,3), dtype=np.uint8) #on précise le dtype uint8 des images pour eviter une erreur de cast\n",
    "  newim[:h1, :w1] = imageleft\n",
    "  newim[:h2,-w2:] = imageright\n",
    "  return newim\n",
    "\n",
    "\n",
    "def mirror(img):\n",
    "  left_half_img = left_half(img)\n",
    "  left_flip = h_flip(left_half_img)\n",
    "  mirror = sidebyside(left_half_img, left_flip)\n",
    "  return mirror"
   ]
  },
  {
   "cell_type": "code",
   "execution_count": 17,
   "metadata": {},
   "outputs": [],
   "source": [
    "run_filter_on_camera(mirror)"
   ]
  },
  {
   "cell_type": "code",
   "execution_count": null,
   "metadata": {},
   "outputs": [],
   "source": [
    "test = cv2.imread('./data/messi.jpg')"
   ]
  },
  {
   "cell_type": "code",
   "execution_count": null,
   "metadata": {},
   "outputs": [],
   "source": [
    "test_messi = mirror(test)\n",
    "\n",
    "plt.imshow(test_messi)"
   ]
  },
  {
   "cell_type": "markdown",
   "metadata": {},
   "source": [
    "## Image Transformations"
   ]
  },
  {
   "cell_type": "markdown",
   "metadata": {
    "collapsed": true
   },
   "source": [
    "### Resizing"
   ]
  },
  {
   "cell_type": "code",
   "execution_count": null,
   "metadata": {},
   "outputs": [],
   "source": [
    "scalefactor=2.5\n",
    "\n",
    "messi = plt.imread('data/messi.jpg')\n",
    "\n",
    "#the heart of the code:\n",
    "res = cv2.resize(messi ,None,fx=scalefactor, fy=scalefactor, interpolation = cv2.INTER_CUBIC)\n",
    "\n",
    "#the remainder of the code is to generate the display image\n",
    "height, width = messi.shape[:2]\n",
    "\n",
    "bigwidth = int( np.amax( [scalefactor*height , height]) )\n",
    "bigheight = int( width*(1+scalefactor))\n",
    "\n",
    "bigim = np.zeros((bigwidth , bigheight ,3), np.uint8)\n",
    "bigim[:height,:width] = messi\n",
    "\n",
    "if scalefactor > 1:\n",
    "    bigim[:,width:] = res\n",
    "else:\n",
    "    bigim[: int(scalefactor*height),width:] = res\n",
    "\n",
    "plt.figure()\n",
    "plt.imshow(bigim)"
   ]
  },
  {
   "cell_type": "markdown",
   "metadata": {
    "collapsed": true
   },
   "source": [
    "### Translation"
   ]
  },
  {
   "cell_type": "code",
   "execution_count": null,
   "metadata": {},
   "outputs": [],
   "source": [
    "rows,cols,chans = messi.shape\n",
    "\n",
    "xshift=100\n",
    "yshift=20\n",
    "\n",
    "M = np.float32([[1,0,xshift],[0,1,yshift]])\n",
    "dst = cv2.warpAffine(img,M,(cols,rows))\n",
    "\n",
    "plt.figure()\n",
    "plt.imshow(dst)"
   ]
  },
  {
   "cell_type": "markdown",
   "metadata": {},
   "source": [
    "### Rotation"
   ]
  },
  {
   "cell_type": "code",
   "execution_count": null,
   "metadata": {},
   "outputs": [],
   "source": [
    "rows, cols, chans = messi.shape\n",
    "\n",
    "#specify our rotation in degrees\n",
    "theta = 45.0\n",
    "\n",
    "M = cv2.getRotationMatrix2D((cols/2,rows/2),theta,1) \n",
    "dst = cv2.warpAffine(messi,M,(cols,rows))\n",
    "                 \n",
    "plt.figure()\n",
    "plt.imshow(dst)"
   ]
  },
  {
   "cell_type": "markdown",
   "metadata": {},
   "source": [
    "### General affine transform\n",
    "\n",
    "Map 3 input (x,y) points to 3 output points (ie triangle to triangle)\n",
    "\n",
    "Will perform translation, scaling, rotation, and skew, but not perspective correction"
   ]
  },
  {
   "cell_type": "code",
   "execution_count": null,
   "metadata": {},
   "outputs": [],
   "source": [
    "rows,cols,ch = messi.shape\n",
    "\n",
    "pts1 = np.float32([[50,50],[200,50],[50,200]])\n",
    "pts2 = np.float32([[10,100],[200,50],[100,250]])\n",
    "\n",
    "M = cv2.getAffineTransform(pts1,pts2)\n",
    "\n",
    "dst = cv2.warpAffine(messi,M,(cols,rows))\n",
    "\n",
    "plt.figure()\n",
    "plt.subplot(121),plt.imshow(img),plt.title('Input')\n",
    "plt.subplot(122),plt.imshow(dst),plt.title('Output')"
   ]
  },
  {
   "cell_type": "markdown",
   "metadata": {},
   "source": [
    "### Perspective transform\n",
    "\n",
    "4 point transform\n",
    "\n",
    "Nonlinear but more general than affine\n",
    "\n",
    "Perspective:  further away objects look smaller"
   ]
  },
  {
   "cell_type": "code",
   "execution_count": null,
   "metadata": {},
   "outputs": [],
   "source": [
    "img = plt.imread('day2/right.jpg')\n",
    "rows,cols,chans = img.shape\n",
    "\n",
    "startpts =  np.float32([[362, 107], [530,139] , [453,416], [319,337]])\n",
    "endpts   =  np.float32([[100, 100], [330,100],  [330,400], [100,400]])\n",
    "\n",
    "M = cv2.getPerspectiveTransform(startpts,endpts)\n",
    "\n",
    "dst = cv2.warpPerspective(img,M,(rows,cols))\n",
    "\n",
    "plt.figure()\n",
    "\n",
    "plt.subplot(1,2,1)\n",
    "plt.imshow(img)\n",
    "\n",
    "plt.subplot(1,2,2)\n",
    "plt.imshow(dst[100:400,100:330])"
   ]
  },
  {
   "cell_type": "markdown",
   "metadata": {},
   "source": [
    "## Mediapipe presentation"
   ]
  },
  {
   "cell_type": "code",
   "execution_count": null,
   "metadata": {},
   "outputs": [],
   "source": [
    "import mediapipe as mp\n",
    "\n",
    "drawing_utils = mp.solutions.drawing_utils\n",
    "drawing_styles = mp.solutions.drawing_styles"
   ]
  },
  {
   "cell_type": "code",
   "execution_count": 3,
   "metadata": {},
   "outputs": [],
   "source": [
    "def run_filter_with_mediapipe_model(mediapipe_model, mediapipe_based_filter):\n",
    "    cap = cv2.VideoCapture(0)\n",
    "    \n",
    "    with mediapipe_model as model:\n",
    "        while cap.isOpened():\n",
    "            success, image = cap.read()\n",
    "\n",
    "            if not success:\n",
    "                print(\"Ignoring empty camera frame.\")\n",
    "                continue     # If loading a video, use 'break' instead of 'continue'.\n",
    "\n",
    "            # Flip the image horizontally for a later selfie-view display, and convert\n",
    "            # the BGR image to RGB.\n",
    "            image = cv2.cvtColor(cv2.flip(image, 1), cv2.COLOR_BGR2RGB)\n",
    "\n",
    "            results = model.process(image)\n",
    "\n",
    "            image = cv2.cvtColor(image, cv2.COLOR_RGB2BGR)\n",
    "\n",
    "            result_image = mediapipe_based_filter(image, results)\n",
    "\n",
    "            cv2.imshow('MediaPipe', result_image)\n",
    "\n",
    "            if cv2.waitKey(5) & 0xFF == ord('q'):\n",
    "                break\n",
    "\n",
    "    cap.release()\n",
    "    cv2.destroyAllWindows()"
   ]
  },
  {
   "cell_type": "markdown",
   "metadata": {},
   "source": [
    "### Holistic (Hands, Face and Pose tracking)"
   ]
  },
  {
   "cell_type": "code",
   "execution_count": 5,
   "metadata": {},
   "outputs": [],
   "source": [
    "Holistic = mp.solutions.holistic.Holistic"
   ]
  },
  {
   "cell_type": "code",
   "execution_count": 6,
   "metadata": {},
   "outputs": [],
   "source": [
    "def draw_holistic_results(image, results, show_hands=True, show_face=True, show_pose=False):\n",
    "    if show_hands:\n",
    "        drawing_utils.draw_landmarks(\n",
    "            image,\n",
    "            results.left_hand_landmarks,\n",
    "            mp.solutions.holistic.HAND_CONNECTIONS,\n",
    "            connection_drawing_spec=drawing_styles.get_default_hand_connections_style()\n",
    "        )\n",
    "\n",
    "        drawing_utils.draw_landmarks(\n",
    "            image,\n",
    "            results.right_hand_landmarks,\n",
    "            mp.solutions.holistic.HAND_CONNECTIONS,\n",
    "            connection_drawing_spec=drawing_styles.get_default_hand_connections_style()\n",
    "        )\n",
    "\n",
    "    if show_face:\n",
    "        drawing_utils.draw_landmarks(\n",
    "            image,\n",
    "            results.face_landmarks,\n",
    "            mp.solutions.holistic.FACEMESH_CONTOURS,\n",
    "            landmark_drawing_spec=drawing_utils.DrawingSpec(thickness=0, circle_radius=0, color=(255, 255, 255)),\n",
    "            connection_drawing_spec=drawing_styles.get_default_face_mesh_contours_style()\n",
    "        )\n",
    "\n",
    "    if show_pose:\n",
    "        drawing_utils.draw_landmarks(\n",
    "            image,\n",
    "            results.pose_landmarks,\n",
    "            mp.solutions.holistic.POSE_CONNECTIONS,\n",
    "            landmark_drawing_spec=drawing_styles.get_default_pose_landmarks_style()\n",
    "        )\n",
    "    \n",
    "    return image"
   ]
  },
  {
   "cell_type": "code",
   "execution_count": 11,
   "metadata": {},
   "outputs": [],
   "source": [
    "run_filter_with_mediapipe_model(\n",
    "    mediapipe_model=Holistic(min_detection_confidence=0.5, min_tracking_confidence=0.5),\n",
    "    mediapipe_based_filter=draw_holistic_results\n",
    ")"
   ]
  },
  {
   "cell_type": "markdown",
   "metadata": {},
   "source": [
    "### Selfie segmentation model"
   ]
  },
  {
   "cell_type": "code",
   "execution_count": 12,
   "metadata": {},
   "outputs": [],
   "source": [
    "SelfieSegmentation = mp.solutions.selfie_segmentation.SelfieSegmentation"
   ]
  },
  {
   "cell_type": "code",
   "execution_count": 13,
   "metadata": {},
   "outputs": [],
   "source": [
    "def draw_selfie_segmentation_mask(image, result):\n",
    "    return result.segmentation_mask\n",
    "\n",
    "run_filter_with_mediapipe_model(\n",
    "    mediapipe_model=SelfieSegmentation(model_selection=0),\n",
    "    mediapipe_based_filter=draw_selfie_segmentation_mask\n",
    ")"
   ]
  },
  {
   "cell_type": "code",
   "execution_count": 14,
   "metadata": {},
   "outputs": [
    {
     "name": "stdout",
     "output_type": "stream",
     "text": [
      "Nose coordinates: (305.61726093292236, 177.70797729492188\n"
     ]
    },
    {
     "data": {
      "image/png": "[encoded data removed]",
      "text/plain": [
       "<Figure size 432x288 with 1 Axes>"
      ]
     },
     "metadata": {
      "needs_background": "light"
     },
     "output_type": "display_data"
    }
   ],
   "source": [
    "mp_drawing = mp.solutions.drawing_utils\n",
    "mp_drawing_styles = mp.solutions.drawing_styles\n",
    "mp_holistic = mp.solutions.holistic\n",
    "\n",
    "# For static images:\n",
    "IMAGE_FILES = ['./data/nose.jpg']\n",
    "with mp_holistic.Holistic(\n",
    "    static_image_mode=True,\n",
    "    model_complexity=2) as holistic:\n",
    "  for idx, file in enumerate(IMAGE_FILES):\n",
    "    image = cv2.imread(file)\n",
    "    image_height, image_width, _ = image.shape\n",
    "    # Convert the BGR image to RGB before processing.\n",
    "    results = holistic.process(cv2.cvtColor(image, cv2.COLOR_BGR2RGB))\n",
    "\n",
    "    if results.pose_landmarks:\n",
    "        x_nose = results.pose_landmarks.landmark[mp_holistic.PoseLandmark.NOSE].x * image_width\n",
    "        y_nose = results.pose_landmarks.landmark[mp_holistic.PoseLandmark.NOSE].y * image_height\n",
    "        image[np.int(-20 + y_nose):np.int(y_nose + 20), np.int(-20 + x_nose):np.int(x_nose + 20)] = (255,0,0)\n",
    "        plt.figure()\n",
    "        plt.imshow(image)\n",
    "        print(\n",
    "        f'Nose coordinates: ('\n",
    "        f'{results.pose_landmarks.landmark[mp_holistic.PoseLandmark.NOSE].x * image_width}, '\n",
    "        f'{results.pose_landmarks.landmark[mp_holistic.PoseLandmark.NOSE].y * image_height}')"
   ]
  },
  {
   "cell_type": "code",
   "execution_count": 7,
   "metadata": {},
   "outputs": [
    {
     "ename": "AttributeError",
     "evalue": "'NoneType' object has no attribute 'landmark'",
     "output_type": "error",
     "traceback": [
      "\u001b[0;31m---------------------------------------------------------------------------\u001b[0m",
      "\u001b[0;31mAttributeError\u001b[0m                            Traceback (most recent call last)",
      "\u001b[0;32m<ipython-input-7-068c95a13ec8>\u001b[0m in \u001b[0;36m<module>\u001b[0;34m\u001b[0m\n\u001b[1;32m     22\u001b[0m     \u001b[0;32mreturn\u001b[0m \u001b[0mimage\u001b[0m\u001b[0;34m\u001b[0m\u001b[0;34m\u001b[0m\u001b[0m\n\u001b[1;32m     23\u001b[0m \u001b[0;34m\u001b[0m\u001b[0m\n\u001b[0;32m---> 24\u001b[0;31m run_filter_with_mediapipe_model(\n\u001b[0m\u001b[1;32m     25\u001b[0m     mediapipe_model=mp_holistic.Holistic(\n\u001b[1;32m     26\u001b[0m         \u001b[0mstatic_image_mode\u001b[0m\u001b[0;34m=\u001b[0m\u001b[0;32mTrue\u001b[0m\u001b[0;34m,\u001b[0m\u001b[0;34m\u001b[0m\u001b[0;34m\u001b[0m\u001b[0m\n",
      "\u001b[0;32m<ipython-input-3-8f8b84929828>\u001b[0m in \u001b[0;36mrun_filter_with_mediapipe_model\u001b[0;34m(mediapipe_model, mediapipe_based_filter)\u001b[0m\n\u001b[1;32m     18\u001b[0m             \u001b[0mimage\u001b[0m \u001b[0;34m=\u001b[0m \u001b[0mcv2\u001b[0m\u001b[0;34m.\u001b[0m\u001b[0mcvtColor\u001b[0m\u001b[0;34m(\u001b[0m\u001b[0mimage\u001b[0m\u001b[0;34m,\u001b[0m \u001b[0mcv2\u001b[0m\u001b[0;34m.\u001b[0m\u001b[0mCOLOR_RGB2BGR\u001b[0m\u001b[0;34m)\u001b[0m\u001b[0;34m\u001b[0m\u001b[0;34m\u001b[0m\u001b[0m\n\u001b[1;32m     19\u001b[0m \u001b[0;34m\u001b[0m\u001b[0m\n\u001b[0;32m---> 20\u001b[0;31m             \u001b[0mresult_image\u001b[0m \u001b[0;34m=\u001b[0m \u001b[0mmediapipe_based_filter\u001b[0m\u001b[0;34m(\u001b[0m\u001b[0mimage\u001b[0m\u001b[0;34m,\u001b[0m \u001b[0mresults\u001b[0m\u001b[0;34m)\u001b[0m\u001b[0;34m\u001b[0m\u001b[0;34m\u001b[0m\u001b[0m\n\u001b[0m\u001b[1;32m     21\u001b[0m \u001b[0;34m\u001b[0m\u001b[0m\n\u001b[1;32m     22\u001b[0m             \u001b[0mcv2\u001b[0m\u001b[0;34m.\u001b[0m\u001b[0mimshow\u001b[0m\u001b[0;34m(\u001b[0m\u001b[0;34m'MediaPipe'\u001b[0m\u001b[0;34m,\u001b[0m \u001b[0mresult_image\u001b[0m\u001b[0;34m)\u001b[0m\u001b[0;34m\u001b[0m\u001b[0;34m\u001b[0m\u001b[0m\n",
      "\u001b[0;32m<ipython-input-7-068c95a13ec8>\u001b[0m in \u001b[0;36mred_nose\u001b[0;34m(image, results)\u001b[0m\n\u001b[1;32m      7\u001b[0m \u001b[0;34m\u001b[0m\u001b[0m\n\u001b[1;32m      8\u001b[0m     \u001b[0;32mif\u001b[0m \u001b[0mresults\u001b[0m\u001b[0;34m.\u001b[0m\u001b[0mpose_landmarks\u001b[0m\u001b[0;34m:\u001b[0m\u001b[0;34m\u001b[0m\u001b[0;34m\u001b[0m\u001b[0m\n\u001b[0;32m----> 9\u001b[0;31m         \u001b[0mx_nose\u001b[0m \u001b[0;34m=\u001b[0m \u001b[0mresults\u001b[0m\u001b[0;34m.\u001b[0m\u001b[0mface_landmarks\u001b[0m\u001b[0;34m.\u001b[0m\u001b[0mlandmark\u001b[0m\u001b[0;34m[\u001b[0m\u001b[0;36m1\u001b[0m\u001b[0;34m]\u001b[0m\u001b[0;34m.\u001b[0m\u001b[0mx\u001b[0m\u001b[0;34m\u001b[0m\u001b[0;34m\u001b[0m\u001b[0m\n\u001b[0m\u001b[1;32m     10\u001b[0m         \u001b[0my_nose\u001b[0m \u001b[0;34m=\u001b[0m \u001b[0mresults\u001b[0m\u001b[0;34m.\u001b[0m\u001b[0mface_landmarks\u001b[0m\u001b[0;34m.\u001b[0m\u001b[0mlandmark\u001b[0m\u001b[0;34m[\u001b[0m\u001b[0;36m1\u001b[0m\u001b[0;34m]\u001b[0m\u001b[0;34m.\u001b[0m\u001b[0my\u001b[0m\u001b[0;34m\u001b[0m\u001b[0;34m\u001b[0m\u001b[0m\n\u001b[1;32m     11\u001b[0m         \u001b[0mx_nose2\u001b[0m \u001b[0;34m=\u001b[0m \u001b[0mresults\u001b[0m\u001b[0;34m.\u001b[0m\u001b[0mface_landmarks\u001b[0m\u001b[0;34m.\u001b[0m\u001b[0mlandmark\u001b[0m\u001b[0;34m[\u001b[0m\u001b[0;36m5\u001b[0m\u001b[0;34m]\u001b[0m\u001b[0;34m.\u001b[0m\u001b[0mx\u001b[0m\u001b[0;34m\u001b[0m\u001b[0;34m\u001b[0m\u001b[0m\n",
      "\u001b[0;31mAttributeError\u001b[0m: 'NoneType' object has no attribute 'landmark'"
     ]
    }
   ],
   "source": [
    "mp_drawing = mp.solutions.drawing_utils\n",
    "mp_drawing_styles = mp.solutions.drawing_styles\n",
    "mp_holistic = mp.solutions.holistic\n",
    "\n",
    "def red_nose(image, results):\n",
    "    height, width, _ = image.shape\n",
    "    \n",
    "    if results.pose_landmarks:\n",
    "        x_nose = results.face_landmarks.landmark[1].x\n",
    "        y_nose = results.face_landmarks.landmark[1].y\n",
    "        x_nose2 = results.face_landmarks.landmark[5].x\n",
    "        y_nose2 = results.face_landmarks.landmark[5].y\n",
    "        cv2.circle(image,\n",
    "                  center = (int(x_nose*width), int(y_nose* height)),\n",
    "                  radius =  int((y_nose - y_nose2)*height), \n",
    "                  color = (0,0,255),\n",
    "                  thickness = -1)\n",
    "#         print(\n",
    "#         f'Nose coordinates: ('\n",
    "#         f'{results.pose_landmarks.landmark[mp_holistic.PoseLandmark.NOSE].x * image_width}, '\n",
    "#         f'{results.pose_landmarks.landmark[mp_holistic.PoseLandmark.NOSE].y * image_height}')\n",
    "    return image\n",
    "\n",
    "run_filter_with_mediapipe_model(\n",
    "    mediapipe_model=mp_holistic.Holistic(\n",
    "        static_image_mode=True,\n",
    "        model_complexity=2\n",
    "    ),\n",
    "    mediapipe_based_filter=red_nose,\n",
    ")"
   ]
  },
  {
   "cell_type": "code",
   "execution_count": null,
   "metadata": {},
   "outputs": [],
   "source": []
  },
  {
   "cell_type": "code",
   "execution_count": null,
   "metadata": {},
   "outputs": [],
   "source": []
  }
 ],
 "metadata": {
  "kernelspec": {
   "display_name": "Python 3",
   "language": "python",
   "name": "python3"
  },
  "language_info": {
   "codemirror_mode": {
    "name": "ipython",
    "version": 3
   },
   "file_extension": ".py",
   "mimetype": "text/x-python",
   "name": "python",
   "nbconvert_exporter": "python",
   "pygments_lexer": "ipython3",
   "version": "3.8.5"
  }
 },
 "nbformat": 4,
 "nbformat_minor": 5
}
